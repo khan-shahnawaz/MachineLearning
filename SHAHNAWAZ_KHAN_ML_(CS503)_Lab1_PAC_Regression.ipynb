{
  "nbformat": 4,
  "nbformat_minor": 0,
  "metadata": {
    "colab": {
      "provenance": []
    },
    "kernelspec": {
      "name": "python3",
      "display_name": "Python 3"
    },
    "language_info": {
      "name": "python"
    }
  },
  "cells": [
    {
      "cell_type": "markdown",
      "source": [
        "# Lab 1 : PAC Learnability, Hypothesis, Regression\n",
        "\n",
        "---\n",
        "\n",
        "\n",
        "Total Points: **90**\n",
        "\n",
        "Tentative Weightage : **9%**\n",
        "\n",
        "Submission Deadline :  **$13^{th}$ Feburary 2023 , 10:00 AM** (3 weeks)\n",
        "\n",
        "Submit a separate report to mention any observations asked in the corresponding questions. Without these observations, no points will be provided for the corresponding question.\n",
        "---\n",
        "\n",
        "\n",
        "\n",
        "General Instructions:\n",
        "\n",
        "---\n",
        "\n",
        "\n",
        "\n",
        "1. You have to do this lab individually\n",
        "2. You may use **seaborn, matplotlib, pandas, numpy, csv**\n",
        "3. All the code should be submitted in the form of a single Jupyter notebook itself.\n",
        "4. Points for each sub-section are mentioned in the appropriate question.\n",
        "5. You can use Google colab to run a jupyter notebook (https://colab.research.google.com/) How to load data in Google Colab ?(https://towardsdatascience.com/3-ways-to-load-csv-files-into-colab-7c14fcbdcb92) (https://www.marktechpost.com/2019/06/07/how-to-connect-google-colab-with-google-drive/). You can also run it in your local anaconda jupyter notebook.\n",
        "6. The lab must be submitted on Google classroom. The code as well as the accompanying observations (report pdf) should be made part of the assignment.\n",
        "7. **Code Readability** is very important. Modularize your code by making use of classes, functions that can be flexibly reused wherever necessary. Also use self explanatory variable names and add comments to describe your approach wherever necessary. You may add additional code or text blocks as necessary.\n",
        "8. You are expected to submit your **observations** (preferably in a separate pdf file) and not just an error free code.\n",
        "9. Students are expected to follow the **honor code** of the class.\n",
        "10. The deadline is strict and any assignment submitted later will not\n",
        "be consider for evaluation unless you take prior permission (at least 4 days before the submission deadline).\n",
        "11. The marks will be given on the basis of quality of code, use of innovative data structures, scalability, correctness, and completeness of the reported observation.\n",
        "12. In case of any queries regarding Lab 1, please mail the TAs (emails are provided on the google classroom).\n",
        "\n",
        "**Best Wishes**\n"
      ],
      "metadata": {
        "id": "AfXDKalbnzFm"
      }
    },
    {
      "cell_type": "markdown",
      "source": [
        "**TASK 1**:                                                      **(18 Marks)**\n",
        "\n",
        "Create a dataset $\\mathcal{D} = (x_i,y_i)_{i=1}^N$ where each $x_i$ is a point in one dimension and each $y_i$ is a binary label i.e. $y_i = \\{0,1\\}$. First generate the vector $Y$ where each example will take $y_i = 1$ with probability $1/2$ and $y_i = 0$ with probability $1/2$ with $N = 30$. Now fixing the $y_i$, sample the $X$ matrix as follows: \n",
        "\n",
        "\n",
        "1. If $y_i = 1$ then $x_i \\sim \\mathcal{N}(3,1)$ where $\\mathcal{N}(a,b)$ represent the gaussian distribution with mean $a$ and standard deviation $b$.\n",
        "    \n",
        "2. If $y_i = 0$ then $x_i \\sim \\mathcal{N}(9,1)$. \n",
        "   \n",
        "  \n",
        "Implement the following with respect to the above generated dataset:\n",
        "\n",
        "1. Color code the examples with $y_i = 1$ as red and $y_i=0$ as green and plot the dataset.  **[3 Marks]**\n",
        "2. Find a threshold hypothesis when hypothesis class is considered as all possible threshold classifier. Plot both the obtained hypothesis along with the dataset.  **[5 Marks]**\n",
        "3. What is generalization error for the above distribution with respect to best threshold hypothesis $\\theta^*$. Plot the empirical error against different value of $N$. Mention what minimum value of $N$ is required to reach $\\theta^*$  **[10 Marks]**\n",
        "\n",
        "\n",
        "Write your code by creating cells below.\n"
      ],
      "metadata": {
        "id": "q_V1D9aXpKsc"
      }
    },
    {
      "cell_type": "code",
      "source": [
        "#Imports\n",
        "\n",
        "import random\n",
        "import numpy as np\n",
        "import matplotlib.pyplot as plt"
      ],
      "metadata": {
        "id": "f8Ihd0q66GS-"
      },
      "execution_count": 104,
      "outputs": []
    },
    {
      "cell_type": "code",
      "source": [
        "''' Class to store the dataset '''\n",
        "class dataSet():\n",
        "  \n",
        "  ''' Constructor to initialize the dataset '''\n",
        "  def __init__(self, N: int, N0: tuple, N1: tuple): # N0 and N1 are tuples of the form (mean, variance) of yi = 0 and yi = 1 respectively\n",
        "    self.N = N\n",
        "    self.generateRandomData(N0, N1)\n",
        "\n",
        "  def __getitem__(self, index:int):\n",
        "    return (self.X[index], self.Y[index])\n",
        "\n",
        "  def __setitem__(self, index:int, data:map):\n",
        "    self.X[index], self.Y[index] = data\n",
        "  \n",
        "  def __len__(self):\n",
        "    return len(self.X)\n",
        "  \n",
        "  def __del__(self):\n",
        "    del self.X\n",
        "    del self.Y\n",
        "    del self.N\n",
        "  \n",
        "  def __iter__(self):\n",
        "    self.curIndex = 0\n",
        "    return self\n",
        "  \n",
        "  def __next__(self):\n",
        "    if self.curIndex >= len(self.X):\n",
        "      raise StopIteration\n",
        "    else:\n",
        "      self.curIndex+=1\n",
        "      return self.X[self.curIndex-1], self.Y[self.curIndex-1]\n",
        "  \n",
        "  def __repr__(self):\n",
        "    for i in self:\n",
        "      x, y= i\n",
        "      print(\"X: \", x, \"Y: \", y)\n",
        "    return ''\n",
        "      \n",
        "  def generateRandomData(self, N0: tuple, N1: tuple):\n",
        "    self.Y = np.array([random.randint(0,1) for i in range(self.N)])\n",
        "    self.X=np.array([0.0 for i in range(self.N)])\n",
        "    for i in range(self.N):\n",
        "      if self.Y[i] == 0:\n",
        "        self.X[i] = np.random.normal(N0[0], N0[1])\n",
        "      else:\n",
        "        self.X[i] = np.random.normal(N1[0], N1[1])\n",
        "  \n",
        "  def plot(self):\n",
        "    colorCode =['green', 'red']\n",
        "    for i in range(self.N):\n",
        "      plt.scatter(self.X[i], 0, c=colorCode[self.Y[i]])\n",
        "    plt.xlabel(\"X\")\n",
        "    plt.xticks(\n",
        "        np.arange(\n",
        "            int(min(self.X)),int(max(self.X)+1)\n",
        "            )\n",
        "        )\n",
        "    plt.tick_params(left=False, labelleft= False)\n",
        "    plt.show()\n",
        "  "
      ],
      "metadata": {
        "id": "_6ECZmzZ6NBW"
      },
      "execution_count": 105,
      "outputs": []
    },
    {
      "cell_type": "code",
      "source": [
        "''' Printing the dataset '''\n",
        "\n",
        "N= 30\n",
        "data = dataSet(N, (9, 1), (3, 1))\n",
        "print(data)\n"
      ],
      "metadata": {
        "colab": {
          "base_uri": "https://localhost:8080/"
        },
        "id": "fbgqZPsKKpVt",
        "outputId": "62b093f9-d9a4-42a8-853a-b481546b5c64"
      },
      "execution_count": 106,
      "outputs": [
        {
          "output_type": "stream",
          "name": "stdout",
          "text": [
            "X:  3.3512430990425885 Y:  1\n",
            "X:  8.624918260307867 Y:  0\n",
            "X:  7.102165609203792 Y:  0\n",
            "X:  9.575755890193765 Y:  0\n",
            "X:  8.037634729296766 Y:  0\n",
            "X:  3.538650492058107 Y:  1\n",
            "X:  8.513364410283236 Y:  0\n",
            "X:  3.1540520906836327 Y:  1\n",
            "X:  9.222452047196159 Y:  0\n",
            "X:  3.2573228380882115 Y:  1\n",
            "X:  3.13783139232475 Y:  1\n",
            "X:  2.6088919837770765 Y:  1\n",
            "X:  1.2601362411995334 Y:  1\n",
            "X:  2.2139647258512527 Y:  1\n",
            "X:  1.870243137909354 Y:  1\n",
            "X:  7.919178182202344 Y:  0\n",
            "X:  10.904676797569657 Y:  0\n",
            "X:  4.325031480206677 Y:  1\n",
            "X:  1.532123989026345 Y:  1\n",
            "X:  2.601931269879244 Y:  1\n",
            "X:  1.806578073002195 Y:  1\n",
            "X:  2.4445232502125354 Y:  1\n",
            "X:  8.537427106193327 Y:  0\n",
            "X:  9.0691690519094 Y:  0\n",
            "X:  1.9559365970403206 Y:  1\n",
            "X:  2.071630561387105 Y:  1\n",
            "X:  9.225750258065926 Y:  0\n",
            "X:  1.607931539508819 Y:  1\n",
            "X:  2.2788906534419926 Y:  1\n",
            "X:  1.9815229740414106 Y:  1\n",
            "\n"
          ]
        }
      ]
    },
    {
      "cell_type": "code",
      "source": [
        "'''a). Plotting the dataset generated'''\n",
        "plt.title('Data Set')\n",
        "data.plot()"
      ],
      "metadata": {
        "colab": {
          "base_uri": "https://localhost:8080/",
          "height": 295
        },
        "id": "PgGKBwCbfzfP",
        "outputId": "be9957b0-2a99-4b6c-cd0a-a15ad571cc29"
      },
      "execution_count": 107,
      "outputs": [
        {
          "output_type": "display_data",
          "data": {
            "text/plain": [
              "<Figure size 432x288 with 1 Axes>"
            ],
            "image/png": "[encoded data removed]"
          },
          "metadata": {
            "needs_background": "light"
          }
        }
      ]
    },
    {
      "cell_type": "code",
      "source": [
        "''' b). Implementing the threshold hypothesis '''\n",
        "\n",
        "'''A function for bisect right'''\n",
        "def bisect_right(arr, num):\n",
        "    low = 0\n",
        "    high = len(arr)\n",
        "    while low<high:\n",
        "        mid = (low+high)//2\n",
        "        if arr[mid]<=num:\n",
        "            low = mid+1\n",
        "        else:\n",
        "            high = mid\n",
        "    return low\n",
        "\n",
        "'''A function to generate the threshold hypothesis for the dataset using Emperical Risk Minimization'''\n",
        "def thresholdHypothesis(data: dataSet):\n",
        "    greenPoints = []\n",
        "    redPoints = []\n",
        "    for x,y in data:\n",
        "        if y==0:\n",
        "            greenPoints.append(x)\n",
        "        else:\n",
        "            redPoints.append(x)\n",
        "    greenPoints.sort()\n",
        "    redPoints.sort()\n",
        "    totalred = len(redPoints)\n",
        "    totalgreen = len(greenPoints)\n",
        "    if totalred==0:\n",
        "        return greenPoints[0]-1\n",
        "    threshold = -float('inf')\n",
        "    error = totalred\n",
        "    for i in range(totalred):\n",
        "        curError = totalred-i-1\n",
        "        j = bisect_right(greenPoints, redPoints[i])\n",
        "        curError+=j\n",
        "        if curError<error:\n",
        "            error= curError\n",
        "            if j==totalgreen:\n",
        "                threshold = redPoints[i]\n",
        "            else:\n",
        "                threshold = (redPoints[i]+greenPoints[j])/2\n",
        "    \n",
        "    if type(threshold) == float:\n",
        "        return greenPoints[0]-1\n",
        "    else:\n",
        "      return threshold\n",
        "\n",
        "''' Plotting and calculating the hypothesis '''\n",
        "def plotHypothesis(data: dataSet):\n",
        "    threshold = thresholdHypothesis(data)\n",
        "    print(\"Threshold: \", threshold)\n",
        "    plt.axvline(x = threshold, color = 'b', label = 'Threshold hypothesis')\n",
        "    plt.legend()\n",
        "    data.plot()\n",
        "    "
      ],
      "metadata": {
        "id": "cZoUgx7Riw_d"
      },
      "execution_count": 108,
      "outputs": []
    },
    {
      "cell_type": "code",
      "source": [
        "plt.title('Hypothesis')\n",
        "plotHypothesis(data)"
      ],
      "metadata": {
        "colab": {
          "base_uri": "https://localhost:8080/",
          "height": 312
        },
        "id": "S9_F0mik23oI",
        "outputId": "7953bcc4-06c0-4d5e-82eb-4cf12bee198f"
      },
      "execution_count": 109,
      "outputs": [
        {
          "output_type": "stream",
          "name": "stdout",
          "text": [
            "Threshold:  5.713598544705235\n"
          ]
        },
        {
          "output_type": "display_data",
          "data": {
            "text/plain": [
              "<Figure size 432x288 with 1 Axes>"
            ],
            "image/png": "[encoded data removed]"
          },
          "metadata": {
            "needs_background": "light"
          }
        }
      ]
    },
    {
      "cell_type": "code",
      "source": [
        "\n",
        "\n",
        "def getYValue(x, threshold):\n",
        "    if x<=threshold:\n",
        "        return 1\n",
        "    else:\n",
        "        return 0\n",
        "\n",
        "def empericalError(data: dataSet, threshold):\n",
        "    error = 0\n",
        "    for x,y in data:\n",
        "        if getYValue(x, threshold)!=y:\n",
        "            error+=1\n",
        "    return error/len(data)\n",
        "\n",
        "\n"
      ],
      "metadata": {
        "id": "Fy9AT_Kn3duc"
      },
      "execution_count": 110,
      "outputs": []
    },
    {
      "cell_type": "code",
      "source": [
        "''' c). Best value for the threshold '''\n",
        "''' We got the generalisation error for the best possible threshold to be as 0.0013 which is 0.13%'''\n",
        "''' Calculating the emperical error for each value from 1 to N '''\n",
        "\n",
        "\n",
        "\n",
        "N = 10000\n",
        "generalisationError = 0.0013 # Calculated in percentage\n",
        "plt.plot()\n",
        "x = []\n",
        "y = []\n",
        "for i in range(1,N+1):\n",
        "    data = dataSet(i, (9, 1), (3, 1))\n",
        "    hypothesis = thresholdHypothesis(data)\n",
        "    error = empericalError(data, hypothesis)\n",
        "    x.append(i)\n",
        "    y.append(error)\n",
        "plt.plot(x,y)\n",
        "plt.axhline(y = generalisationError, color = 'g', label = 'Generalization Error')\n",
        "plt.legend()\n",
        "plt.xlabel('N')\n",
        "plt.ylabel('Emperical Error')\n",
        "plt.show()\n",
        "    "
      ],
      "metadata": {
        "colab": {
          "base_uri": "https://localhost:8080/",
          "height": 279
        },
        "id": "GHH73Usc3eXG",
        "outputId": "3a14a75b-d4c6-4f54-ea94-a4d1920cad0b"
      },
      "execution_count": 111,
      "outputs": [
        {
          "output_type": "display_data",
          "data": {
            "text/plain": [
              "<Figure size 432x288 with 1 Axes>"
            ],
            "image/png": "[encoded data removed]"
          },
          "metadata": {
            "needs_background": "light"
          }
        }
      ]
    },
    {
      "cell_type": "markdown",
      "source": [
        "**TASK 2**:                                                      **(35 Marks)**\n",
        "\n",
        "In this question, we will repeat the experiments discussed in the class with respect to polynomial regression but with a different function. \n",
        "\n",
        "Generate $20$ data points from function $f(x) = e^{(\\pi x/8)} + \\frac{x}{12\\pi} + \\text{noise}$ where noise$\\sim \\mathcal{N}(0,0.2)$ with $x$ ranging from $0$ to $10$.  **[3 Marks]**\n",
        "\n",
        "1. Fit a polynomial regression with optimal weight vector $w^*$ computed via analytical method (using idea of matrices taught in class) and plot the curves for different degree of polynomials $M=2,4,5,7,10$. Explain your observations by plotting the data points generated and the curve obtained for different values of $M$.  **[10 Marks]**\n",
        "\n",
        "2. Fit a polynomial regression using gradient descent for different degree of polynomials $M=2,4,5,7,10$. Explain your observations by plotting the data points generated and the curve obtained for different values of $M$.  **[10 Marks]**\n",
        "\n",
        "3. Repeat the previous experiments with more number of data points and report your findings. More specifically, compare the above two approaches with respect to the solution obtained with respect to each value of M **[6 Marks]**\n",
        "\n",
        "4. Plot runtime of both methods against variation with respect to $M$.\n",
        " **[3 Marks]**\n",
        "\n",
        "5. Plot runtime of both methods against variation with respect to number of datapoints.  **[3 Marks]**\n",
        "\n",
        "**Use of sci-kit or any direct implementation of linear regression is striclty probhibted. You can use numpy and pandas.**\n",
        "Write your code by creating cells below.\n"
      ],
      "metadata": {
        "id": "SXRKuioo6Ti9"
      }
    },
    {
      "cell_type": "code",
      "source": [
        "#write your code here You can create more cells"
      ],
      "metadata": {
        "id": "8Tq3HAIt64wM"
      },
      "execution_count": 112,
      "outputs": []
    },
    {
      "cell_type": "code",
      "source": [
        "#write your code here You can create more cells"
      ],
      "metadata": {
        "id": "1zNUocbz64pt"
      },
      "execution_count": 113,
      "outputs": []
    },
    {
      "cell_type": "markdown",
      "source": [
        "#Adult Dataset\n",
        "\n",
        "###About the Dataset\n",
        "The data set contains information of 32562 individuals from the 1994\n",
        "census, of which 21790 are males and 10771 are females. We choose six attributes as feature set: age, fnlwgt, education_num, capital_gain, hours_per_week, sex. Our goal is to predict captial_gain using other attributes. You can read more about the dataset [here](https://archive.ics.uci.edu/ml/datasets/adult) \n"
      ],
      "metadata": {
        "id": "mWVD7i13pGGr"
      }
    },
    {
      "cell_type": "code",
      "execution_count": 114,
      "metadata": {
        "id": "j5i1NR39nW1N",
        "colab": {
          "base_uri": "https://localhost:8080/"
        },
        "outputId": "f46cea27-ee31-4572-9c67-edba1b43c25e"
      },
      "outputs": [
        {
          "output_type": "stream",
          "name": "stdout",
          "text": [
            "Mounted at /content/MyDrive\n"
          ]
        }
      ],
      "source": [
        "# To access files stored in Google Drive, following block import is used\n",
        "# If using on a local system, please comment the lines below in this code block\n",
        "\n",
        "from google.colab import drive\n",
        "drive.mount('/content/MyDrive', force_remount = True)"
      ]
    },
    {
      "cell_type": "markdown",
      "source": [
        "**TASK 3**:                                                      **(37 Marks)**\n",
        "\n",
        "We will be understanding the concept of linear regression along with the regularization parameter on the Adult dataset which has multiple attributes. \n",
        "\n",
        "0. Load Adult Dataset into pandas dataframe and print it. You can randomly subsample dataset size to $10,000$ points.  \n",
        "1. **Feature Normalization:** As discussed in the class, we first have to standardize all the features by subtracting with the mean and dividing by the standard deviation. Verify your technique by computing the mean and variance of the transformed data and check if the mean is $0$ and variance is $1$.  **[2 Marks (1+1) ]**\n",
        "\n",
        "2. **$K-$Fold Cross Validation:** Randomly partition the data into a training and test set. Fix 20\\% of the instances into the test set. With the remaining create training and validation sets with $K-$fold cross validation. You can take the value of $K$ to be 10.  **[3 Marks]**\n",
        "\n",
        "3. **Stratisfied $K$-fold cross validation**: Create a balanced dataset such that each training and validation set contain balanced data representation. For the Adult dataset, consider balanced with respect to gender (male/female).Fix 20\\% of the instances into the test set. Then with the remaining create balanced training and validation dataset by keeping the value of $K$ to be 10. To read more refer https://www.geeksforgeeks.org/stratified-k-fold-cross-validation/  **[3 Marks]**\n",
        "\n",
        "4. **Lasso-Regression:** Here, implement your own function LassoRegUnfair$(X, Y, \\lambda)$ that calculates the linear least square solution with the lasso regression penalty parameter $\\lambda$ and return regression weights. Use gradient descent technique to find these weights. Implement PredLassoRegUnfair(X, weights) that returns $Y$ given the input $X$ with learnt weights. (Use datasets obtained using $K$-fold cross validation (For exact definition of Lasso see the side notes below).  **[10 Marks]**\n",
        "\n",
        "5. Repeat previous part with dataset obtained using statisfied $K$-fold validation i.e. implement LassoRegFair$(X, Y, \\lambda)$  and PredLassoRegFair(X, weights).  **[10 Marks]**\n",
        "\n",
        "6. Plot the mean square error for each of the dataset obtained from $K-$fold cross validation with respect to different $\\lambda$ values. Explain your finding and suggest what value of $\\lambda$ will you choose based on the obtained plot.  **[3 Marks]**\n",
        "\n",
        "7. Plot the mean square error for each of the dataset obtained from stratisfied $K-$fold cross validation with respect to different $\\lambda$ values. Explain your finding and suggest what value of $\\lambda$ will you choose based on the obtained plot. Compare results with unfair model i.e. model prepared with random paritions. Such fairness is called **social fairness** in literature (refer sideNotes below).  **[3 Marks]** \n",
        "\n",
        "8.  Plot the training error, variance and test error against different values of $\\lambda$ on datasets generated using $K$-fold validation.  Explain your finding and suggest what value of $\\lambda$ will you choose based on the obtained plot. Explain your result in the context of bias variance trade off.\n",
        " **[3 Marks]**\n",
        "\n",
        "\n",
        "Write your code by creating cells below.\n"
      ],
      "metadata": {
        "id": "xt6gBTE583rt"
      }
    },
    {
      "cell_type": "code",
      "source": [
        "#write your code here "
      ],
      "metadata": {
        "id": "jnScHs7KBonl"
      },
      "execution_count": 115,
      "outputs": []
    },
    {
      "cell_type": "code",
      "source": [
        "#write your code here "
      ],
      "metadata": {
        "id": "EmXiv717BolF"
      },
      "execution_count": 116,
      "outputs": []
    },
    {
      "cell_type": "code",
      "source": [
        "#write your code here You can create more cells"
      ],
      "metadata": {
        "id": "bmd7-ewdBoZG"
      },
      "execution_count": 117,
      "outputs": []
    },
    {
      "cell_type": "markdown",
      "source": [
        "**Side Notes: LASSO Regularization**:\n",
        "Regularization is implemented to avoid overfitting of the data. LASSO is a regularization technique used in feature selection using a Shrinkage method also referred to as the penalized regression method. Lasso is short for Least Absolute Shrinkage and Selection Operator, which is used both for regularization and model selection. If a model uses the L1 regularization technique, then it is called lasso regression.\n",
        "\n",
        "In this shrinkage technique, the coefficients determined in the regression model are penalized by a factor called the alpha α (or sometimes lamda). \n",
        "In the equation shown below there are basically two terms one is old least sqaure loss and other term is regularization term. The regularization term consist of a trade-off factor $λ$ followed by weight coefficient $β$'s.\n",
        "\n",
        "![image.png](data:image/png;base64,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)\n",
        "\n",
        "With lambda set to zero, you will find that this is the equivalent of the linear regression model with least sqaure loss. Thus lasso regression shrinks the coefficients and helps to reduce the model complexity and multi-collinearity.\n",
        "\n",
        "lambda can be any real-valued number between zero and infinity; the larger the value, the more aggressive the penalization is. To read more visit https://www.datacamp.com/tutorial/tutorial-lasso-ridge-regression"
      ],
      "metadata": {
        "id": "kmUfCteD9_Xl"
      }
    },
    {
      "cell_type": "markdown",
      "source": [
        "**Side Notes: Social Fairness**:\n",
        "\n",
        "\n",
        "In real world machine learning deployments it is observed that the standard al\n",
        "gorithm results in a model which incurs higher cost for females compared to males. Similarly it is even more noticeable among the sensitive (or protected) attribute like racial groups which can take more than two values. In light of this consideration, recent works consider a different objective. Rather than minimizing the cost over the entire dataset, the objective of socially fair model is to find a model that minimizes the average cost across different (protected) groups.\n",
        "\n",
        "So, in simple words, if your model has loss on males nearly same as loss incured on females then your model is socially fair to group (gender). Thus, you can check if your learned model (here regressor) obeys social fairness or not?\n",
        "\n",
        "(To read more https://arxiv.org/pdf/2006.10085.pdf).\n"
      ],
      "metadata": {
        "id": "QgJxgCssns4x"
      }
    },
    {
      "cell_type": "code",
      "source": [
        "#Thanks "
      ],
      "metadata": {
        "id": "jY7Bq7zYCC8-"
      },
      "execution_count": 118,
      "outputs": []
    },
    {
      "cell_type": "markdown",
      "source": [
        "## DO PREPARE A SEPARATE REPORT (in PDF format) for all your observations in each question. You can report any other observations as well and use your creativity to understand the concepts."
      ],
      "metadata": {
        "id": "rqdjZFfABxO1"
      }
    }
  ]
}